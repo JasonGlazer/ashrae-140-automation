{
 "cells": [
  {
   "cell_type": "markdown",
   "id": "512718c3-431c-413f-9db1-f9fed1abfe22",
   "metadata": {},
   "source": [
    "<center><h1>Section 5-2BOutput Graphics</h1></center>"
   ]
  },
  {
   "cell_type": "code",
   "execution_count": 1,
   "id": "1e81caf1-4c71-4d32-a0f1-edc758d05170",
   "metadata": {},
   "outputs": [],
   "source": [
    "import os\n",
    "import sys\n",
    "import matplotlib.pyplot as plt\n",
    "from IPython.display import display, HTML\n",
    "\n",
    "root_directory = os.path.dirname(os.path.dirname(os.getcwd()))\n",
    "if os.path.join(root_directory, 'src') not in sys.path:\n",
    "    sys.path.append(os.path.join(root_directory, 'src'))\n",
    "\n",
    "from graphics_renderer import GraphicsRenderer\n",
    "\n",
    "%matplotlib widget\n",
    "%matplotlib inline"
   ]
  },
  {
   "cell_type": "code",
   "execution_count": 2,
   "id": "344c6534-871a-4f9b-8f1f-cdd704a40439",
   "metadata": {},
   "outputs": [
    {
     "data": {
      "text/html": [
       "\n",
       "            <style>\n",
       "            .jp-RenderedImage {\n",
       "                display: table-cell;\n",
       "                text-align: center;\n",
       "                vertical-align: middle;\n",
       "            }\n",
       "            .placeholder-span {\n",
       "                visibility: hidden;\n",
       "            }\n",
       "            .pandas-tbl h2 {\n",
       "                height: 25px;\n",
       "                line-height: 18px;\n",
       "                font-size: 18px;\n",
       "                text-align: center;\n",
       "            }\n",
       "            .pandas-tbl caption {\n",
       "                font-size: 20px;\n",
       "                font-weight: bold;\n",
       "                text-align: left;\n",
       "            }\n",
       "            .dataframe.pandas-sub-tbl th, .dataframe.pandas-sub-tbl-with-cases th {\n",
       "                height: 50px;\n",
       "                line-height: 14px;\n",
       "                font-size: 14px;\n",
       "                text-align: center;\n",
       "            }\n",
       "            .dataframe.pandas-sub-tbl td, .dataframe.pandas-sub-tbl-with-cases td {\n",
       "                font-size: 12px;\n",
       "            }\n",
       "            .dataframe.pandas-sub-tbl-with-cases td:first-child {\n",
       "                min-width: 300px;\n",
       "                text-align: left;\n",
       "            }\n",
       "            </style>\n",
       "        "
      ],
      "text/plain": [
       "<IPython.core.display.HTML object>"
      ]
     },
     "execution_count": 2,
     "metadata": {},
     "output_type": "execute_result"
    }
   ],
   "source": [
    "gr = GraphicsRenderer('RESULTS5-2B-Test-0.0.0.json')\n",
    "HTML(gr._set_html_style())"
   ]
  },
  {
   "cell_type": "code",
   "execution_count": 3,
   "id": "64a8bc36-a9a1-4a0b-bc36-4abd692624c0",
   "metadata": {},
   "outputs": [],
   "source": [
    "df = gr.render_section_5_2b_table_b_8_2_1()"
   ]
  },
  {
   "cell_type": "code",
   "execution_count": 4,
   "id": "612c6430-e852-473e-9025-f9e55e3d0427",
   "metadata": {},
   "outputs": [
    {
     "data": {
      "text/html": [
       "<div>\n",
       "<style scoped>\n",
       "    .dataframe tbody tr th:only-of-type {\n",
       "        vertical-align: middle;\n",
       "    }\n",
       "\n",
       "    .dataframe tbody tr th {\n",
       "        vertical-align: top;\n",
       "    }\n",
       "\n",
       "    .dataframe thead th {\n",
       "        text-align: right;\n",
       "    }\n",
       "</style>\n",
       "<table border=\"1\" class=\"dataframe\">\n",
       "  <thead>\n",
       "    <tr style=\"text-align: right;\">\n",
       "      <th>program_name</th>\n",
       "      <th>RESULTS5-2B-Basecalc-1.0e</th>\n",
       "      <th>RESULTS5-2B-EnergyPlus-9.0.1</th>\n",
       "      <th>RESULTS5-2B-ESP-r-0</th>\n",
       "      <th>RESULTS5-2B-FLUENT-6.1</th>\n",
       "      <th>RESULTS5-2B-GHT-2.02</th>\n",
       "      <th>RESULTS5-2B-MATLAB-7.0.4.365-R14-SP2</th>\n",
       "      <th>RESULTS5-2B-SUNREL-GC-1.14.02</th>\n",
       "      <th>RESULTS5-2B-TRNSYS-16.1</th>\n",
       "      <th>RESULTS5-2B-VA114-2.20</th>\n",
       "      <th>RESULTS5-2B-Test-0.0.0</th>\n",
       "    </tr>\n",
       "  </thead>\n",
       "  <tbody>\n",
       "    <tr>\n",
       "      <th>GC10a</th>\n",
       "      <td>NaN</td>\n",
       "      <td>NaN</td>\n",
       "      <td>NaN</td>\n",
       "      <td>2425.0</td>\n",
       "      <td>2414.9</td>\n",
       "      <td>2431.824070</td>\n",
       "      <td>NaN</td>\n",
       "      <td>2427.0</td>\n",
       "      <td>NaN</td>\n",
       "      <td>NaN</td>\n",
       "    </tr>\n",
       "    <tr>\n",
       "      <th>GC30a</th>\n",
       "      <td>NaN</td>\n",
       "      <td>NaN</td>\n",
       "      <td>NaN</td>\n",
       "      <td>2585.0</td>\n",
       "      <td>2456.7</td>\n",
       "      <td>2694.985567</td>\n",
       "      <td>NaN</td>\n",
       "      <td>2642.0</td>\n",
       "      <td>NaN</td>\n",
       "      <td>NaN</td>\n",
       "    </tr>\n",
       "  </tbody>\n",
       "</table>\n",
       "</div>"
      ],
      "text/plain": [
       "program_name  RESULTS5-2B-Basecalc-1.0e  RESULTS5-2B-EnergyPlus-9.0.1  \\\n",
       "GC10a                               NaN                           NaN   \n",
       "GC30a                               NaN                           NaN   \n",
       "\n",
       "program_name  RESULTS5-2B-ESP-r-0  RESULTS5-2B-FLUENT-6.1  \\\n",
       "GC10a                         NaN                  2425.0   \n",
       "GC30a                         NaN                  2585.0   \n",
       "\n",
       "program_name  RESULTS5-2B-GHT-2.02  RESULTS5-2B-MATLAB-7.0.4.365-R14-SP2  \\\n",
       "GC10a                       2414.9                           2431.824070   \n",
       "GC30a                       2456.7                           2694.985567   \n",
       "\n",
       "program_name  RESULTS5-2B-SUNREL-GC-1.14.02  RESULTS5-2B-TRNSYS-16.1  \\\n",
       "GC10a                                   NaN                   2427.0   \n",
       "GC30a                                   NaN                   2642.0   \n",
       "\n",
       "program_name  RESULTS5-2B-VA114-2.20  RESULTS5-2B-Test-0.0.0  \n",
       "GC10a                            NaN                     NaN  \n",
       "GC30a                            NaN                     NaN  "
      ]
     },
     "execution_count": 4,
     "metadata": {},
     "output_type": "execute_result"
    }
   ],
   "source": [
    "df\\\n",
    "    .loc[\n",
    "        :,\n",
    "        (\n",
    "            ([True if str(i).endswith('a') else False for i in df.columns.get_level_values(0)]) & \n",
    "            (df.columns.get_level_values(1) == 'qfloor')\n",
    "        )\n",
    "    ]\\\n",
    "    .droplevel(1, axis=1)\\\n",
    "    .transpose()"
   ]
  }
 ],
 "metadata": {
  "kernelspec": {
   "display_name": "venv",
   "language": "python",
   "name": "venv"
  },
  "language_info": {
   "codemirror_mode": {
    "name": "ipython",
    "version": 3
   },
   "file_extension": ".py",
   "mimetype": "text/x-python",
   "name": "python",
   "nbconvert_exporter": "python",
   "pygments_lexer": "ipython3",
   "version": "3.7.6"
  }
 },
 "nbformat": 4,
 "nbformat_minor": 5
}
