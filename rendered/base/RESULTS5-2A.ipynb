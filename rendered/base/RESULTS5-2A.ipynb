{
 "cells": [
  {
   "cell_type": "markdown",
   "id": "c085cf4e-a620-4f1d-9293-8ee53061995a",
   "metadata": {},
   "source": [
    "<center><h1>Section 5-2A Output Graphics</h1></center>"
   ]
  },
  {
   "cell_type": "code",
   "execution_count": null,
   "id": "305ea708-0d75-427d-8cdd-64b6e0bb638d",
   "metadata": {},
   "outputs": [],
   "source": [
    "import os\n",
    "import sys\n",
    "import matplotlib.pyplot as plt\n",
    "from IPython.display import display, HTML\n",
    "\n",
    "root_directory = os.path.dirname(os.path.dirname(os.getcwd()))\n",
    "\n",
    "if os.path.join(root_directory, 'src') not in sys.path:\n",
    "    sys.path.append(os.path.join(root_directory, 'src'))\n",
    "\n",
    "from graphics_renderer import GraphicsRenderer\n",
    "\n",
    "%matplotlib widget\n",
    "%matplotlib inline"
   ]
  },
  {
   "cell_type": "code",
   "execution_count": null,
   "id": "51e760c8-e3f8-4503-b6bc-b4b5b6376c96",
   "metadata": {},
   "outputs": [],
   "source": [
    "HTML(\"\"\"\n",
    "<style>\n",
    "\n",
    ".jp-RenderedImage {\n",
    "    display: table-cell;\n",
    "    text-align: center;\n",
    "    vertical-align: middle;\n",
    "}\n",
    "\n",
    ".placeholder-span {\n",
    "    visibility: hidden;\n",
    "}\n",
    "\n",
    ".pandas-tbl h2 {\n",
    "    height: 25px;\n",
    "    line-height: 18px;\n",
    "    font-size: 18px;\n",
    "    text-align: center;\n",
    "}\n",
    "\n",
    ".pandas-tbl caption {\n",
    "    font-size: 20px;\n",
    "    font-weight: bold;\n",
    "    text-align: left;\n",
    "}\n",
    "\n",
    ".dataframe.pandas-sub-tbl th, .dataframe.pandas-sub-tbl-with-cases th {\n",
    "    height: 50px;\n",
    "    line-height: 10px;\n",
    "    font-size: 10px;\n",
    "    text-align: center;\n",
    "}\n",
    "\n",
    ".dataframe.pandas-sub-tbl td, .dataframe.pandas-sub-tbl-with-cases td {\n",
    "    font-size: 12px;\n",
    "}\n",
    "\n",
    ".dataframe.pandas-sub-tbl-with-cases td:first-child {\n",
    "    min-width: 300px;\n",
    "    text-align: left;\n",
    "}\n",
    "\n",
    "</style>\n",
    "\"\"\")"
   ]
  },
  {
   "cell_type": "code",
   "execution_count": null,
   "id": "ab165054-bf53-40fc-bf36-821b26528b81",
   "metadata": {},
   "outputs": [],
   "source": [
    "gr = GraphicsRenderer('RESULTS5-2A-Test-0.0.0.json')"
   ]
  },
  {
   "cell_type": "code",
   "execution_count": null,
   "id": "1419a293-cb3a-4977-a034-8397ac6df970",
   "metadata": {},
   "outputs": [],
   "source": [
    "table_html, msg = gr.render_section_5_2a_table_b_8_1()\n",
    "table_html"
   ]
  },
  {
   "cell_type": "code",
   "execution_count": null,
   "id": "2748cf94-5131-4e3b-b13d-33df3d2850ea",
   "metadata": {},
   "outputs": [],
   "source": [
    "table_html, msg = gr.render_section_5_2a_table_b_8_2()\n",
    "table_html"
   ]
  },
  {
   "cell_type": "code",
   "execution_count": null,
   "id": "1bde4508-7c89-4370-ae90-73621e068b9c",
   "metadata": {},
   "outputs": [],
   "source": [
    "fig, ax = plt.subplots(1, 1, figsize=(14,8))\n",
    "gr.render_section_5_2a_figure_b_8_1(fig, ax)\n",
    "plt.show();"
   ]
  },
  {
   "cell_type": "code",
   "execution_count": null,
   "id": "578ff6ba-c8c9-4dbc-b339-2bdd06707f14",
   "metadata": {},
   "outputs": [],
   "source": [
    "fig, ax = plt.subplots(1, 1, figsize=(14,8))\n",
    "gr.render_section_5_2a_figure_b_8_9(fig, ax)\n",
    "plt.show();"
   ]
  },
  {
   "cell_type": "code",
   "execution_count": null,
   "id": "c7f173e7-9bb9-45f6-a946-8ac4f60b6973",
   "metadata": {},
   "outputs": [],
   "source": []
  }
 ],
 "metadata": {
  "kernelspec": {
   "display_name": "venv",
   "language": "python",
   "name": "venv"
  },
  "language_info": {
   "codemirror_mode": {
    "name": "ipython",
    "version": 3
   },
   "file_extension": ".py",
   "mimetype": "text/x-python",
   "name": "python",
   "nbconvert_exporter": "python",
   "pygments_lexer": "ipython3",
   "version": "3.7.6"
  }
 },
 "nbformat": 4,
 "nbformat_minor": 5
}
