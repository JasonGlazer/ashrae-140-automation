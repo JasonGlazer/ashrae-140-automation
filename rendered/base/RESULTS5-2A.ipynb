{
 "cells": [
  {
   "cell_type": "markdown",
   "id": "c085cf4e-a620-4f1d-9293-8ee53061995a",
   "metadata": {},
   "source": [
    "<center><h1>Section 5-2A Output Graphics</h1></center>"
   ]
  },
  {
   "cell_type": "code",
   "execution_count": 1,
   "id": "305ea708-0d75-427d-8cdd-64b6e0bb638d",
   "metadata": {},
   "outputs": [],
   "source": [
    "import os\n",
    "import sys\n",
    "import matplotlib.pyplot as plt\n",
    "from IPython.display import display, HTML\n",
    "\n",
    "root_directory = os.path.dirname(os.path.dirname(os.getcwd()))\n",
    "if os.path.join(root_directory, 'src') not in sys.path:\n",
    "    sys.path.append(os.path.join(root_directory, 'src'))\n",
    "\n",
    "from graphics_renderer import GraphicsRenderer\n",
    "\n",
    "%matplotlib widget\n",
    "%matplotlib inline"
   ]
  },
  {
   "cell_type": "code",
   "execution_count": 2,
   "id": "ab165054-bf53-40fc-bf36-821b26528b81",
   "metadata": {},
   "outputs": [
    {
     "data": {
      "text/html": [
       "\n",
       "            <style>\n",
       "            .jp-RenderedImage {\n",
       "                display: table-cell;\n",
       "                text-align: center;\n",
       "                vertical-align: middle;\n",
       "            }\n",
       "            .placeholder-span {\n",
       "                visibility: hidden;\n",
       "            }\n",
       "            .pandas-tbl h2 {\n",
       "                height: 25px;\n",
       "                line-height: 18px;\n",
       "                font-size: 18px;\n",
       "                text-align: center;\n",
       "            }\n",
       "            .pandas-tbl caption {\n",
       "                font-size: 20px;\n",
       "                font-weight: bold;\n",
       "                text-align: left;\n",
       "            }\n",
       "            .dataframe.pandas-sub-tbl th, .dataframe.pandas-sub-tbl-with-cases th {\n",
       "                height: 50px;\n",
       "                line-height: 14px;\n",
       "                font-size: 14px;\n",
       "                text-align: center;\n",
       "            }\n",
       "            .dataframe.pandas-sub-tbl td, .dataframe.pandas-sub-tbl-with-cases td {\n",
       "                font-size: 12px;\n",
       "            }\n",
       "            .dataframe.pandas-sub-tbl-with-cases td:first-child {\n",
       "                min-width: 300px;\n",
       "                text-align: left;\n",
       "            }\n",
       "            body {\n",
       "                background: white;\n",
       "            }\n",
       "            </style>\n",
       "        "
      ],
      "text/plain": [
       "<IPython.core.display.HTML object>"
      ]
     },
     "execution_count": 2,
     "metadata": {},
     "output_type": "execute_result"
    }
   ],
   "source": [
    "gr = GraphicsRenderer('test-0.0.0-results5-2a.json')\n",
    "HTML(gr._set_html_style())"
   ]
  },
  {
   "cell_type": "code",
   "execution_count": null,
   "id": "1419a293-cb3a-4977-a034-8397ac6df970",
   "metadata": {},
   "outputs": [
    {
     "name": "stdout",
     "output_type": "stream",
     "text": [
      "(0.0, 46.0, 0.0, 1.0)\n"
     ]
    },
    {
     "ename": "AttributeError",
     "evalue": "'AxesSubplot' object has no attribute 'avhline'",
     "output_type": "error",
     "traceback": [
      "\u001b[0;31m---------------------------------------------------------------------------\u001b[0m",
      "\u001b[0;31mAttributeError\u001b[0m                            Traceback (most recent call last)",
      "\u001b[0;32m/tmp/ipykernel_66340/1206121527.py\u001b[0m in \u001b[0;36m<module>\u001b[0;34m\u001b[0m\n\u001b[0;32m----> 1\u001b[0;31m \u001b[0mgr\u001b[0m\u001b[0;34m.\u001b[0m\u001b[0mrender_section_5_2a_table_b_8_1\u001b[0m\u001b[0;34m(\u001b[0m\u001b[0;34m)\u001b[0m\u001b[0;34m\u001b[0m\u001b[0;34m\u001b[0m\u001b[0m\n\u001b[0m\u001b[1;32m      2\u001b[0m \u001b[0mplt\u001b[0m\u001b[0;34m.\u001b[0m\u001b[0mshow\u001b[0m\u001b[0;34m(\u001b[0m\u001b[0;34m)\u001b[0m\u001b[0;34m;\u001b[0m\u001b[0;34m\u001b[0m\u001b[0;34m\u001b[0m\u001b[0m\n",
      "\u001b[0;32m~/Documents/GARD/ASHRAE140Automation/src/graphics_renderer.py\u001b[0m in \u001b[0;36mrender_section_5_2a_table_b_8_1\u001b[0;34m(self, output_value, caption)\u001b[0m\n\u001b[1;32m    394\u001b[0m                            bbox=[0, 0, 1, 1])\n\u001b[1;32m    395\u001b[0m             \u001b[0mprint\u001b[0m\u001b[0;34m(\u001b[0m\u001b[0mtst\u001b[0m\u001b[0;34m)\u001b[0m\u001b[0;34m\u001b[0m\u001b[0;34m\u001b[0m\u001b[0m\n\u001b[0;32m--> 396\u001b[0;31m             \u001b[0max\u001b[0m\u001b[0;34m.\u001b[0m\u001b[0mavhline\u001b[0m\u001b[0;34m(\u001b[0m\u001b[0mx\u001b[0m\u001b[0;34m=\u001b[0m\u001b[0;36m4\u001b[0m\u001b[0;34m,\u001b[0m \u001b[0mcolor\u001b[0m\u001b[0;34m=\u001b[0m\u001b[0;34m'black'\u001b[0m\u001b[0;34m,\u001b[0m \u001b[0mlinewidth\u001b[0m\u001b[0;34m=\u001b[0m\u001b[0;36m14\u001b[0m\u001b[0;34m,\u001b[0m \u001b[0mzorder\u001b[0m\u001b[0;34m=\u001b[0m\u001b[0;36m3\u001b[0m\u001b[0;34m)\u001b[0m\u001b[0;34m\u001b[0m\u001b[0;34m\u001b[0m\u001b[0m\n\u001b[0m\u001b[1;32m    397\u001b[0m             \u001b[0;31m# for ax, df, loc in zip(axs, [df_formatted_table, statistics_df, program_df], ['right', 'center', 'left']):\u001b[0m\u001b[0;34m\u001b[0m\u001b[0;34m\u001b[0m\u001b[0;34m\u001b[0m\u001b[0m\n\u001b[1;32m    398\u001b[0m             \u001b[0;31m#     ax.set_frame_on(False)\u001b[0m\u001b[0;34m\u001b[0m\u001b[0;34m\u001b[0m\u001b[0;34m\u001b[0m\u001b[0m\n",
      "\u001b[0;31mAttributeError\u001b[0m: 'AxesSubplot' object has no attribute 'avhline'"
     ]
    }
   ],
   "source": [
    "gr.render_section_5_2a_table_b_8_1()\n",
    "plt.show();"
   ]
  },
  {
   "cell_type": "code",
   "execution_count": null,
   "id": "2748cf94-5131-4e3b-b13d-33df3d2850ea",
   "metadata": {},
   "outputs": [],
   "source": [
    "gr.render_section_5_2a_table_b_8_2()"
   ]
  },
  {
   "cell_type": "code",
   "execution_count": null,
   "id": "1bde4508-7c89-4370-ae90-73621e068b9c",
   "metadata": {},
   "outputs": [],
   "source": [
    "gr.render_section_5_2a_figure_b_8_1()\n",
    "plt.show();"
   ]
  },
  {
   "cell_type": "code",
   "execution_count": null,
   "id": "578ff6ba-c8c9-4dbc-b339-2bdd06707f14",
   "metadata": {},
   "outputs": [],
   "source": [
    "gr.render_section_5_2a_figure_b_8_9()\n",
    "plt.show();"
   ]
  },
  {
   "cell_type": "code",
   "execution_count": null,
   "id": "c7f173e7-9bb9-45f6-a946-8ac4f60b6973",
   "metadata": {},
   "outputs": [],
   "source": [
    "gr.render_section_5_2a_figure_b8_17()\n",
    "plt.show();"
   ]
  },
  {
   "cell_type": "code",
   "execution_count": null,
   "id": "d5e68605-eca1-4bf2-8106-71ce1bc43742",
   "metadata": {},
   "outputs": [],
   "source": [
    "gr.render_section_5_2a_figure_b8_h1()\n",
    "plt.show();"
   ]
  },
  {
   "cell_type": "code",
   "execution_count": null,
   "id": "9047a6a9-c826-4dcf-bbb7-99f42cc36afd",
   "metadata": {},
   "outputs": [],
   "source": [
    "# Example Dataframe storage object\n",
    "gr.df_data"
   ]
  },
  {
   "cell_type": "code",
   "execution_count": null,
   "id": "25baee4f-5938-46d8-9b35-e9448cc4967d",
   "metadata": {},
   "outputs": [],
   "source": [
    "# Example dataframe display\n",
    "display(gr.df_data['conditioned_zone_loads_non_free_float'])"
   ]
  },
  {
   "cell_type": "code",
   "execution_count": null,
   "id": "09384d2a-a25f-43d7-9c38-dfa7f7b9c0da",
   "metadata": {},
   "outputs": [],
   "source": [
    "# Example json storage object\n",
    "from pprint import pprint\n",
    "pprint(gr.json_data['RESULTS5-2A-BSIMAC-9-9.0.74']['annual_solar_radiation_direct_and_diffuse'])"
   ]
  }
 ],
 "metadata": {
  "kernelspec": {
   "display_name": "venv",
   "language": "python",
   "name": "venv"
  },
  "language_info": {
   "codemirror_mode": {
    "name": "ipython",
    "version": 3
   },
   "file_extension": ".py",
   "mimetype": "text/x-python",
   "name": "python",
   "nbconvert_exporter": "python",
   "pygments_lexer": "ipython3",
   "version": "3.7.12"
  }
 },
 "nbformat": 4,
 "nbformat_minor": 5
}
