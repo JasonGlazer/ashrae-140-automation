{
 "cells": [
  {
   "cell_type": "markdown",
   "id": "c085cf4e-a620-4f1d-9293-8ee53061995a",
   "metadata": {
    "papermill": {
     "duration": 0.030126,
     "end_time": "2021-10-08T02:55:24.009628",
     "exception": false,
     "start_time": "2021-10-08T02:55:23.979502",
     "status": "completed"
    },
    "tags": []
   },
   "source": [
    "<center><h1>Section 5-2A Output Graphics</h1></center>"
   ]
  },
  {
   "cell_type": "code",
   "execution_count": 1,
   "id": "305ea708-0d75-427d-8cdd-64b6e0bb638d",
   "metadata": {
    "execution": {
     "iopub.execute_input": "2021-10-08T02:55:24.067093Z",
     "iopub.status.busy": "2021-10-08T02:55:24.066141Z",
     "iopub.status.idle": "2021-10-08T02:55:25.005115Z",
     "shell.execute_reply": "2021-10-08T02:55:25.005805Z"
    },
    "papermill": {
     "duration": 0.975138,
     "end_time": "2021-10-08T02:55:25.006093",
     "exception": false,
     "start_time": "2021-10-08T02:55:24.030955",
     "status": "completed"
    },
    "tags": []
   },
   "outputs": [],
   "source": [
    "import json\n",
    "import os\n",
    "import matplotlib.pyplot as plt\n",
    "import seaborn as sns\n",
    "\n",
    "%matplotlib widget\n",
    "%matplotlib inline"
   ]
  },
  {
   "cell_type": "code",
   "execution_count": 2,
   "id": "8751ddb3-ad3b-48b8-8184-b153288f7288",
   "metadata": {
    "execution": {
     "iopub.execute_input": "2021-10-08T02:55:25.057308Z",
     "iopub.status.busy": "2021-10-08T02:55:25.055685Z",
     "iopub.status.idle": "2021-10-08T02:55:25.060647Z",
     "shell.execute_reply": "2021-10-08T02:55:25.059911Z"
    },
    "papermill": {
     "duration": 0.031673,
     "end_time": "2021-10-08T02:55:25.060794",
     "exception": false,
     "start_time": "2021-10-08T02:55:25.029121",
     "status": "completed"
    },
    "tags": [
     "parameters"
    ]
   },
   "outputs": [],
   "source": [
    "root_directory = os.path.dirname(os.path.dirname(os.getcwd()))\n",
    "json_file_list = [\n",
    "    'processed/RESULTS5-2A-EnergyPlus-9.0.1.json', \n",
    "    'processed/RESULTS5-2A-BSIMAC-9-9.0.74.json', \n",
    "    'processed/RESULTS5-2A-CSE-0.861.1.json']\n",
    "notebook_name = 'RESULTS5-2A.ipynb'\n",
    "html_dir = os.path.join(os.path.dirname(os.path.dirname(os.getcwd())), 'rendered', 'html')"
   ]
  },
  {
   "cell_type": "code",
   "execution_count": 3,
   "id": "59a3d791",
   "metadata": {
    "execution": {
     "iopub.execute_input": "2021-10-08T02:55:25.111654Z",
     "iopub.status.busy": "2021-10-08T02:55:25.110665Z",
     "iopub.status.idle": "2021-10-08T02:55:25.202430Z",
     "shell.execute_reply": "2021-10-08T02:55:25.201351Z"
    },
    "papermill": {
     "duration": 0.119391,
     "end_time": "2021-10-08T02:55:25.202699",
     "exception": false,
     "start_time": "2021-10-08T02:55:25.083308",
     "status": "completed"
    },
    "tags": [
     "injected-parameters"
    ]
   },
   "outputs": [],
   "source": [
    "# Parameters\n",
    "root_directory = \"/home/jgrando/Documents/GARD/ASHRAE140Automation\"\n",
    "json_file_list = [\n",
    "    \"processed/RESULTS5-2A-EnergyPlus-9.0.1.json\",\n",
    "    \"processed/RESULTS5-2A-CSE-0.861.1.json\",\n",
    "]\n",
    "notebook_name = \"/home/jgrando/Documents/GARD/ASHRAE140Automation/rendered/notebooks/test_notebook.ipynb\"\n"
   ]
  },
  {
   "cell_type": "code",
   "execution_count": 4,
   "id": "51e760c8-e3f8-4503-b6bc-b4b5b6376c96",
   "metadata": {
    "execution": {
     "iopub.execute_input": "2021-10-08T02:55:25.265183Z",
     "iopub.status.busy": "2021-10-08T02:55:25.264491Z",
     "iopub.status.idle": "2021-10-08T02:55:25.377493Z",
     "shell.execute_reply": "2021-10-08T02:55:25.378163Z"
    },
    "papermill": {
     "duration": 0.150749,
     "end_time": "2021-10-08T02:55:25.378377",
     "exception": false,
     "start_time": "2021-10-08T02:55:25.227628",
     "status": "completed"
    },
    "tags": []
   },
   "outputs": [
    {
     "data": {
      "text/html": [
       "\n",
       "<style>\n",
       ".jp-RenderedImage {\n",
       "    display: table-cell;\n",
       "    text-align: center;\n",
       "    vertical-align: middle;\n",
       "}\n",
       "</style>\n"
      ],
      "text/plain": [
       "<IPython.core.display.HTML object>"
      ]
     },
     "execution_count": 4,
     "metadata": {},
     "output_type": "execute_result"
    }
   ],
   "source": [
    "from IPython.core.display import HTML\n",
    "HTML(\"\"\"\n",
    "<style>\n",
    ".jp-RenderedImage {\n",
    "    display: table-cell;\n",
    "    text-align: center;\n",
    "    vertical-align: middle;\n",
    "}\n",
    "</style>\n",
    "\"\"\")"
   ]
  },
  {
   "cell_type": "code",
   "execution_count": 5,
   "id": "a7d9c2f3-40bb-4657-b3dd-d48e292d609d",
   "metadata": {
    "execution": {
     "iopub.execute_input": "2021-10-08T02:55:25.439419Z",
     "iopub.status.busy": "2021-10-08T02:55:25.438326Z",
     "iopub.status.idle": "2021-10-08T02:55:25.579926Z",
     "shell.execute_reply": "2021-10-08T02:55:25.580784Z"
    },
    "papermill": {
     "duration": 0.170298,
     "end_time": "2021-10-08T02:55:25.581074",
     "exception": false,
     "start_time": "2021-10-08T02:55:25.410776",
     "status": "completed"
    },
    "tags": []
   },
   "outputs": [],
   "source": [
    "json_data = {}\n",
    "for f in json_file_list:\n",
    "    file_path = os.path.join(root_directory, f) \n",
    "    with open(file_path, 'r') as jf:\n",
    "        data = json.load(jf)\n",
    "        json_data[str(os.path.basename(f)).replace('.json', '')] = data"
   ]
  },
  {
   "cell_type": "code",
   "execution_count": 6,
   "id": "ef2a5d3d-5911-492c-9aa1-f921d64ec711",
   "metadata": {
    "execution": {
     "iopub.execute_input": "2021-10-08T02:55:25.642653Z",
     "iopub.status.busy": "2021-10-08T02:55:25.641516Z",
     "iopub.status.idle": "2021-10-08T02:55:25.668825Z",
     "shell.execute_reply": "2021-10-08T02:55:25.670070Z"
    },
    "papermill": {
     "duration": 0.061333,
     "end_time": "2021-10-08T02:55:25.670477",
     "exception": false,
     "start_time": "2021-10-08T02:55:25.609144",
     "status": "completed"
    },
    "tags": []
   },
   "outputs": [],
   "source": [
    "# Fig B8-9\n",
    "import numpy as np\n",
    "\n",
    "labels = []\n",
    "data = []\n",
    "programs = []\n",
    "cases = ['395', '600']\n",
    "for idx, (tst, json_obj) in enumerate(json_data.items()):\n",
    "    tmp_data = []\n",
    "    for case in cases:\n",
    "        tmp_data.append(json_obj['conditioned_zone_loads_non_free_float'][case]['peak_heating_kW'])\n",
    "    data.insert(idx, tmp_data)\n",
    "    programs.insert(idx, json_obj['identifying_information']['software_name'])\n",
    "    \n",
    "hatches = ['/', '\\\\', 'o', '//'][:len(data)]"
   ]
  },
  {
   "cell_type": "code",
   "execution_count": 7,
   "id": "4972872b-6c5c-4cb5-ad61-9e06e06014fa",
   "metadata": {
    "execution": {
     "iopub.execute_input": "2021-10-08T02:55:25.802494Z",
     "iopub.status.busy": "2021-10-08T02:55:25.777616Z",
     "iopub.status.idle": "2021-10-08T02:55:26.212673Z",
     "shell.execute_reply": "2021-10-08T02:55:26.213223Z"
    },
    "papermill": {
     "duration": 0.514878,
     "end_time": "2021-10-08T02:55:26.213403",
     "exception": false,
     "start_time": "2021-10-08T02:55:25.698525",
     "status": "completed"
    },
    "tags": []
   },
   "outputs": [
    {
     "data": {
      "image/png": "[encoded data removed]",
      "text/plain": [
       "<Figure size 864x576 with 1 Axes>"
      ]
     },
     "metadata": {
      "needs_background": "light"
     },
     "output_type": "display_data"
    }
   ],
   "source": [
    "fig, ax = plt.subplots(1, 1, figsize=(12,8), sharex=True)\n",
    "fig.tight_layout()\n",
    "\n",
    "width = 0.25\n",
    "\n",
    "ax.set_xticks(np.arange(max([len(i) for i in data])))\n",
    "ax.set_title('Figure B8-9.  Basic: Low Mass Peak Heating', fontsize=30)\n",
    "ax.set_xticklabels(cases)\n",
    "for idx, (p, d, h) in enumerate(zip(programs, data, hatches)):\n",
    "    x = np.arange(len(d))\n",
    "    rects = ax.bar(x + (width * idx) - (width/2 * (len(data) - 1)), d, width, label=p, hatch=h, fill=None)\n",
    "    ax.bar_label(rects, padding=3)\n",
    "\n",
    "ax.grid(which='major', axis='y')\n",
    "ax.legend(loc='lower center', bbox_to_anchor=(0.5, -0.15), ncol=len(programs), fontsize=20)\n",
    "\n",
    "plt.show();"
   ]
  }
 ],
 "metadata": {
  "kernelspec": {
   "display_name": "venv",
   "language": "python",
   "name": "venv"
  },
  "language_info": {
   "codemirror_mode": {
    "name": "ipython",
    "version": 3
   },
   "file_extension": ".py",
   "mimetype": "text/x-python",
   "name": "python",
   "nbconvert_exporter": "python",
   "pygments_lexer": "ipython3",
   "version": "3.7.6"
  },
  "papermill": {
   "default_parameters": {},
   "duration": 3.963399,
   "end_time": "2021-10-08T02:55:26.661624",
   "environment_variables": {},
   "exception": null,
   "input_path": "/home/jgrando/Documents/GARD/ASHRAE140Automation/rendered/base/RESULTS5-2A.ipynb",
   "output_path": "/home/jgrando/Documents/GARD/ASHRAE140Automation/rendered/notebooks/test_notebook.ipynb",
   "parameters": {
    "json_file_list": [
     "processed/RESULTS5-2A-EnergyPlus-9.0.1.json",
     "processed/RESULTS5-2A-CSE-0.861.1.json"
    ],
    "notebook_name": "/home/jgrando/Documents/GARD/ASHRAE140Automation/rendered/notebooks/test_notebook.ipynb",
    "root_directory": "/home/jgrando/Documents/GARD/ASHRAE140Automation"
   },
   "start_time": "2021-10-08T02:55:22.698225",
   "version": "2.3.3"
  }
 },
 "nbformat": 4,
 "nbformat_minor": 5
}